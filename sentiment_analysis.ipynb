{
 "cells": [
  {
   "cell_type": "code",
   "execution_count": null,
   "id": "a5abc646-c5ab-415d-b20a-4b8a0c9ed057",
   "metadata": {},
   "outputs": [],
   "source": [
    "import numpy as np\n",
    "import pandas as pd\n",
    "import matpotlib.pyplot as plt\n",
    "df=pd.read_csv(\n",
    "df.head(3)"
   ]
  },
  {
   "cell_type": "code",
   "execution_count": null,
   "id": "633265c1-bb75-4ab6-ad3d-5a2d2a29f83c",
   "metadata": {},
   "outputs": [],
   "source": [
    "df.summary.head()"
   ]
  },
  {
   "cell_type": "code",
   "execution_count": null,
   "id": "55329e08-a635-4e2d-aca5-eba916304398",
   "metadata": {},
   "outputs": [],
   "source": [
    "df.Text.head()"
   ]
  },
  {
   "cell_type": "code",
   "execution_count": null,
   "id": "a1837bc8-3ab4-4573-b08e-e44c9afa03fb",
   "metadata": {},
   "outputs": [],
   "source": [
    "from nltk.corpus import stopwords\n",
    "from textblob import TextBlob\n",
    "from textblob import Word\n",
    "df['Text']=df['Text'].apply(lambda x:\"\".join(x.lower() for x in x.split()))\n",
    "df['Text']=df['Text'].str.replace('[^\\w\\s]',')\n",
    "stop =stopwordws.words('english')\n",
    "df['Text']=df['Text'].apply("
   ]
  },
  {
   "cell_type": "code",
   "execution_count": null,
   "id": "eb7b3755-e48b-491c-a2e4-bac8ec8b651b",
   "metadata": {},
   "outputs": [],
   "source": [
    "\n"
   ]
  },
  {
   "cell_type": "code",
   "execution_count": null,
   "id": "5345b2c1-7720-4901-9615-5cf916023a0e",
   "metadata": {},
   "outputs": [],
   "source": [
    "reviews=df\n",
    "reviews.dropna((inplace=True)\n",
    "reviews.Score.hist(bins=5,grid=False)\n",
    "plt.show()\n",
    "print(reviews.groupby('score').count().Id)"
   ]
  },
  {
   "cell_type": "code",
   "execution_count": null,
   "id": "062f4dc4-6a5e-4304-a6b1-4855eaa80df7",
   "metadata": {},
   "outputs": [],
   "source": [
    "score_1=reviews[reviews['Score']==1].sample(n=47)\n",
    "score_2=reviews[reviews['Score']==2].sample(n=47)\n",
    "score_3=reviews[reviews['score']==3].sample(n=47)\n",
    "score_4=reviews[reviews['score']==4].sample(n=47)\n",
    "score_5=reviews[reviews['Score']==5].sample(n=47)"
   ]
  },
  {
   "cell_type": "code",
   "execution_count": null,
   "id": "fd85042a-c335-4786-9389-f059835f17d8",
   "metadata": {},
   "outputs": [],
   "source": [
    "reviews_sample=pd.concat([score_1,score_2,score_3,score_4,score_5],axis=0)\n",
    "reviews_sample.reset_index(drop=True,inplace=True)\n",
    "print(reviews_sample.groupby('score').count().Id)"
   ]
  },
  {
   "cell_type": "code",
   "execution_count": null,
   "id": "dac30658-057b-40b8-be5b-06815e6e8b6a",
   "metadata": {},
   "outputs": [],
   "source": [
    "from wordloud import WordCloud\n",
    "reviews_str=\"\".join(reviews_sample[\"summary\"].to_numpy())\n",
    "wordcloud=WordCloud"
   ]
  }
 ],
 "metadata": {
  "kernelspec": {
   "display_name": "Python [conda env:base] *",
   "language": "python",
   "name": "conda-base-py"
  },
  "language_info": {
   "codemirror_mode": {
    "name": "ipython",
    "version": 3
   },
   "file_extension": ".py",
   "mimetype": "text/x-python",
   "name": "python",
   "nbconvert_exporter": "python",
   "pygments_lexer": "ipython3",
   "version": "3.12.7"
  }
 },
 "nbformat": 4,
 "nbformat_minor": 5
}
