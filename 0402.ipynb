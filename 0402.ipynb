{
 "cells": [
  {
   "cell_type": "code",
   "execution_count": 1,
   "id": "821761f1-2108-4165-bee5-b23edfac60b7",
   "metadata": {},
   "outputs": [
    {
     "name": "stdout",
     "output_type": "stream",
     "text": [
      "Collecting emot\n",
      "  Downloading emot-3.1-py3-none-any.whl.metadata (396 bytes)\n",
      "Downloading emot-3.1-py3-none-any.whl (61 kB)\n",
      "Installing collected packages: emot\n",
      "Successfully installed emot-3.1\n"
     ]
    }
   ],
   "source": [
    "!pip install emot"
   ]
  },
  {
   "cell_type": "code",
   "execution_count": 3,
   "id": "de55ac1d-feec-446e-92ae-36cb825adb5a",
   "metadata": {},
   "outputs": [],
   "source": [
    "text1=\"What are you saying😂. I am the boss😎,and why are you so😒\""
   ]
  },
  {
   "cell_type": "code",
   "execution_count": 5,
   "id": "68472abe-dc48-4d48-81d1-c2baae2d2141",
   "metadata": {},
   "outputs": [],
   "source": [
    "import re\n",
    "from emot.emo_unicode import UNICODE_EMOJI\n",
    "from emot.emo_unicode import EMOTICONS_EMO"
   ]
  },
  {
   "cell_type": "code",
   "execution_count": 28,
   "id": "c3f48118-ede8-4a87-a4a4-f3193e5380b5",
   "metadata": {},
   "outputs": [
    {
     "data": {
      "text/plain": [
       "'What are you sayingface_with_tears_of_joy. I am the bosssmiling_face_with_sunglasses,and why are you sounamused_face'"
      ]
     },
     "execution_count": 28,
     "metadata": {},
     "output_type": "execute_result"
    }
   ],
   "source": [
    "def converting_emojis(text):\n",
    "    for emot in UNICODE_EMOJI:\n",
    "        text=text.replace(emot,\"_\".join(UNICODE_EMOJI[emot].replace(\",\",\"\")\\\n",
    "                                        .replace(\":\",\"\").split()))\n",
    "    return text\n",
    "    \n",
    "converting_emojis(text1)"
   ]
  },
  {
   "cell_type": "code",
   "execution_count": null,
   "id": "b39af8a5-b87d-44c9-bb6b-9673989f36cd",
   "metadata": {},
   "outputs": [],
   "source": [
    "def emoji_removal(string):\n",
    "    emoji_unicodes=re.compile(\"[\"\n",
    "                             u\"\\0001"
   ]
  }
 ],
 "metadata": {
  "kernelspec": {
   "display_name": "Python [conda env:base] *",
   "language": "python",
   "name": "conda-base-py"
  },
  "language_info": {
   "codemirror_mode": {
    "name": "ipython",
    "version": 3
   },
   "file_extension": ".py",
   "mimetype": "text/x-python",
   "name": "python",
   "nbconvert_exporter": "python",
   "pygments_lexer": "ipython3",
   "version": "3.12.7"
  }
 },
 "nbformat": 4,
 "nbformat_minor": 5
}
